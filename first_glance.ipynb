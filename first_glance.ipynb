{
 "cells": [
  {
   "cell_type": "markdown",
   "id": "c4caf7e9",
   "metadata": {},
   "source": [
    "---\n",
    "\n",
    "# Очистка данных\n",
    "\n",
    "***Мусор на входе модели $\\to$ мусор на выходе.***\n",
    "\n",
    "Ни одна модель машинного обучения не выдаст осмысленных результатов, если вы предоставите ей сырые данные. После формирования выборки данных их необходимо очистить."
   ]
  },
  {
   "cell_type": "code",
   "execution_count": 102,
   "id": "91003664",
   "metadata": {},
   "outputs": [],
   "source": [
    "#main\n",
    "import pandas as pd\n",
    "import numpy as np\n",
    "\n",
    "#plot\n",
    "from matplotlib import pyplot as plt\n",
    "import seaborn as sns\n",
    "\n",
    "#\n",
    "from tqdm import tqdm \n",
    "import re\n",
    "\n",
    "pd.set_option(\"display.max_columns\", 300)\n",
    "\n",
    "\n",
    "# Имеем :\n",
    "PATH_TRAIN = './data/train_sber.csv'\n",
    "PATH_TEST = './data/test.csv'\n",
    "PATH_MACRO = './data/macro.csv'"
   ]
  },
  {
   "cell_type": "markdown",
   "id": "0b235833-5e31-4245-b1f8-90a7c60c88a6",
   "metadata": {},
   "source": [
    "**У нас есть достаточно большой DataSet с кучей признаков много пропусков и мусорных значений. Будем обрабатывать!**"
   ]
  },
  {
   "cell_type": "code",
   "execution_count": 2,
   "id": "9aee8fd6",
   "metadata": {},
   "outputs": [],
   "source": [
    "df_train = pd.read_csv(PATH_TRAIN)\n",
    "df_makro = pd.read_csv(PATH_MACRO)\n",
    "df_train_y = df_train['price_doc']\n",
    "df_train.drop(columns='price_doc', axis=1, inplace=True)"
   ]
  },
  {
   "cell_type": "markdown",
   "id": "5df6665d-63b2-48ca-bb66-7036fa27591e",
   "metadata": {},
   "source": [
    "**Создадим функцию для сестиматизации работы с признаками**"
   ]
  },
  {
   "cell_type": "code",
   "execution_count": 40,
   "id": "e9d58911",
   "metadata": {},
   "outputs": [],
   "source": [
    "def moustache(s):\n",
    "    # Принемает series\n",
    "    # Возращает значения усов нормального распределения\n",
    "    q75,q25 = np.percentile(s,[75,25])\n",
    "    iqr = q75 - q25\n",
    "    return q25 - 1.5*iqr, q75 + 1.5*iqr\n",
    "\n",
    "def data_cleanup_table(df):\n",
    "    # Возвращает таблицу для EDA с анализом признаков\n",
    "    \n",
    "    # Создание таблицы\n",
    "    columns = ['Признак', 'Тип_данных', 'Пропущенных_значений', \n",
    "           'Выбросов', 'Ошибочных_значений', 'Управление', 'Комментарий']\n",
    "    table = pd.DataFrame(columns=columns)\n",
    "    table['Признак'] = df.columns\n",
    "    df_len = len(df)\n",
    "    print('Создание таблицы...')\n",
    "    #\n",
    "    for sign in df.columns:\n",
    "        table.loc[table['Признак'] == sign, 'Тип_данных'] = df[sign].dtype\n",
    "    \n",
    "    \n",
    "    # Анализ пропущенных значений\n",
    "    for sign in tqdm(df.columns, desc='Анализ пропущенных значений\\t'):\n",
    "        table.loc[table['Признак'] == sign, 'Пропущенных_значений'] = df[sign].isna().sum()\n",
    "        if df[sign].isna().sum() / df_len > 0.2:\n",
    "            table.loc[table['Признак'] == sign, 'Управление'] = 'Удалить'\n",
    "            table.loc[table['Признак'] == sign, 'Комментарий'] = 'Пропусков больше 20% '\n",
    "            \n",
    "    \n",
    "    # Анализ выбрасов\n",
    "    for sign in tqdm(df.columns, desc='Анализ выбросов\\t\\t\\t'):\n",
    "        if df[sign].dtype == 'object':\n",
    "            table.loc[table['Признак'] == sign, 'Выбросов'] = -1\n",
    "        else:\n",
    "            tmp = moustache(df[sign]) # возращает границы усов (а, б)\n",
    "            table.loc[table['Признак'] == sign, 'Выбросов'] = df[(df[sign] < tmp[0]) |\n",
    "                                                                            (df[sign] > tmp[1])][sign].count()      \n",
    "    \n",
    "    return table"
   ]
  },
  {
   "cell_type": "code",
   "execution_count": 41,
   "id": "c0e6dc6c",
   "metadata": {},
   "outputs": [
    {
     "name": "stdout",
     "output_type": "stream",
     "text": [
      "Создание таблицы...\n"
     ]
    },
    {
     "name": "stderr",
     "output_type": "stream",
     "text": [
      "Анализ пропущенных значений\t: 100%|██████████| 291/291 [00:00<00:00, 677.65it/s]\n",
      "Анализ выбросов\t\t\t: 100%|██████████| 291/291 [00:02<00:00, 106.60it/s]\n"
     ]
    },
    {
     "data": {
      "text/html": [
       "<div>\n",
       "<style scoped>\n",
       "    .dataframe tbody tr th:only-of-type {\n",
       "        vertical-align: middle;\n",
       "    }\n",
       "\n",
       "    .dataframe tbody tr th {\n",
       "        vertical-align: top;\n",
       "    }\n",
       "\n",
       "    .dataframe thead th {\n",
       "        text-align: right;\n",
       "    }\n",
       "</style>\n",
       "<table border=\"1\" class=\"dataframe\">\n",
       "  <thead>\n",
       "    <tr style=\"text-align: right;\">\n",
       "      <th></th>\n",
       "      <th>Признак</th>\n",
       "      <th>Тип_данных</th>\n",
       "      <th>Пропущенных_значений</th>\n",
       "      <th>Выбросов</th>\n",
       "      <th>Ошибочных_значений</th>\n",
       "      <th>Управление</th>\n",
       "      <th>Комментарий</th>\n",
       "    </tr>\n",
       "  </thead>\n",
       "  <tbody>\n",
       "    <tr>\n",
       "      <th>0</th>\n",
       "      <td>id</td>\n",
       "      <td>int64</td>\n",
       "      <td>0</td>\n",
       "      <td>0</td>\n",
       "      <td>NaN</td>\n",
       "      <td>NaN</td>\n",
       "      <td>NaN</td>\n",
       "    </tr>\n",
       "    <tr>\n",
       "      <th>1</th>\n",
       "      <td>timestamp</td>\n",
       "      <td>object</td>\n",
       "      <td>0</td>\n",
       "      <td>-1</td>\n",
       "      <td>NaN</td>\n",
       "      <td>NaN</td>\n",
       "      <td>NaN</td>\n",
       "    </tr>\n",
       "    <tr>\n",
       "      <th>2</th>\n",
       "      <td>full_sq</td>\n",
       "      <td>int64</td>\n",
       "      <td>0</td>\n",
       "      <td>963</td>\n",
       "      <td>NaN</td>\n",
       "      <td>NaN</td>\n",
       "      <td>NaN</td>\n",
       "    </tr>\n",
       "    <tr>\n",
       "      <th>3</th>\n",
       "      <td>life_sq</td>\n",
       "      <td>float64</td>\n",
       "      <td>6383</td>\n",
       "      <td>0</td>\n",
       "      <td>NaN</td>\n",
       "      <td>Удалить</td>\n",
       "      <td>Пропусков больше 20%</td>\n",
       "    </tr>\n",
       "    <tr>\n",
       "      <th>4</th>\n",
       "      <td>floor</td>\n",
       "      <td>float64</td>\n",
       "      <td>167</td>\n",
       "      <td>0</td>\n",
       "      <td>NaN</td>\n",
       "      <td>NaN</td>\n",
       "      <td>NaN</td>\n",
       "    </tr>\n",
       "  </tbody>\n",
       "</table>\n",
       "</div>"
      ],
      "text/plain": [
       "     Признак Тип_данных Пропущенных_значений Выбросов Ошибочных_значений  \\\n",
       "0         id      int64                    0        0                NaN   \n",
       "1  timestamp     object                    0       -1                NaN   \n",
       "2    full_sq      int64                    0      963                NaN   \n",
       "3    life_sq    float64                 6383        0                NaN   \n",
       "4      floor    float64                  167        0                NaN   \n",
       "\n",
       "  Управление            Комментарий  \n",
       "0        NaN                    NaN  \n",
       "1        NaN                    NaN  \n",
       "2        NaN                    NaN  \n",
       "3    Удалить  Пропусков больше 20%   \n",
       "4        NaN                    NaN  "
      ]
     },
     "execution_count": 41,
     "metadata": {},
     "output_type": "execute_result"
    }
   ],
   "source": [
    "table = data_cleanup_table(df_train)\n",
    "table.head()"
   ]
  },
  {
   "cell_type": "markdown",
   "id": "4badc8aa-3c50-4f26-863b-a57abdd735f7",
   "metadata": {},
   "source": [
    "**Для заполнения ошибочных значений надо вникнуть в суть признаков. В папке data/ файл data_dictionary.txt содержит описание всех признаков**\n",
    "\n",
    "id, timestamp, full_sq, life_sq, floor, max_floor, material, build_yea, num_room, kitch_sq, state, product_type, sub_area\n",
    "\n",
    "*В ручную просмотрев основные признаки найдем ошибочные значения*"
   ]
  },
  {
   "cell_type": "markdown",
   "id": "ff1203e6-a579-4888-9c90-d69f24433a4d",
   "metadata": {
    "tags": []
   },
   "source": [
    "---\n",
    "\n",
    "**Отберем не адекватные признаки записав их в переменную false_col**\n",
    "\n",
    "product_type: owner-occupier purchase or investment - Вряд ли имеет значения для стоимости жилья  \n",
    "Признак (full_all: subarea population) полностью заменяет список признаков : 'male_f', 'female_f', 'young_all', 'young_male', 'young_female', 'work_all', 'work_male', 'work_female', 'ekder_all', 'ekder_male', 'ekder_female' и других по шаблону n_m_{all|male|female}: population between n and m years old  \n",
    "build_count_*: buildings in the subarea by construction type or year  - Не нужно\n"
   ]
  },
  {
   "cell_type": "code",
   "execution_count": 122,
   "id": "7428efb9-0843-4d3e-9657-c2975b3c2527",
   "metadata": {},
   "outputs": [],
   "source": [
    "false_col = ['product_type', 'male_f', 'female_f']"
   ]
  },
  {
   "cell_type": "code",
   "execution_count": 123,
   "id": "20e11e99-9901-427c-8be4-8aa9a161954f",
   "metadata": {},
   "outputs": [],
   "source": [
    "# Для получения списка признаков описанных в data_dictionary.txt с помощь \"_*\"\n",
    "\n",
    "false_col += [x for x in df_train.columns if (re.match(r'young_', x) != None) |\n",
    " (re.match(r'work_', x) != None) | (re.match(r'ekder_', x) != None)]\n",
    "false_col += [x for x in df_train.columns if (re.match(r'\\d+_\\d+_', x) != None)]\n",
    "false_col += [x for x in df_train.columns if (re.match(r'build_count_', x) != None)]"
   ]
  },
  {
   "cell_type": "markdown",
   "id": "d53b6354-10ac-46c7-884d-1cef1209fb91",
   "metadata": {},
   "source": [
    "**Удалить после решения**\n",
    "\n",
    "Признаки к которым можно присмотреться и проанализировать\n",
    "\n",
    "x_count_500: the number of x within 500m of the property  \n",
    "x_part_500: the share of x within 500m of the property  \n",
    "_sqm_: square meters  \n",
    " \n",
    "[x for x in df_train.columns if (re.search(r'_count_500', x) != None)]  \n",
    "[x for x in df_train.columns if (re.search(r'_part_500', x) != None)]"
   ]
  },
  {
   "cell_type": "code",
   "execution_count": null,
   "id": "a0da69d8-439a-48c2-8233-87fba839cbf5",
   "metadata": {},
   "outputs": [],
   "source": []
  },
  {
   "cell_type": "code",
   "execution_count": null,
   "id": "176f9675-c318-45ad-bc3b-7e42e6a2ba5e",
   "metadata": {},
   "outputs": [],
   "source": []
  },
  {
   "cell_type": "code",
   "execution_count": null,
   "id": "c0e14027-ef73-4840-8593-8c2b0bec8ca1",
   "metadata": {},
   "outputs": [],
   "source": []
  },
  {
   "cell_type": "code",
   "execution_count": 69,
   "id": "4604ae47-de5e-4448-90da-99c3ae6c0dd6",
   "metadata": {},
   "outputs": [],
   "source": [
    "# Любая площадь, большая всей не жилой площади явно ошибка\n",
    "def sq_valid(df, table):\n",
    "    table.loc[table['Признак'] == 'life_sq', 'Ошибочных_значений'] = df[df['full_sq'] < df['life_sq']]['id'].count()\n",
    "    table.loc[table['Признак'] == 'kitch_sq', 'Ошибочных_значений'] = df[df['full_sq'] < df['kitch_sq']]['id'].count()\n",
    "    \n",
    "def false_values(df, table):\n",
    "    sq_valid(df, table)\n",
    "\n",
    "false_values(df_train, table)"
   ]
  },
  {
   "cell_type": "code",
   "execution_count": null,
   "id": "44ff5814-9857-46d5-8a8f-7708aa217a2c",
   "metadata": {},
   "outputs": [],
   "source": []
  },
  {
   "cell_type": "code",
   "execution_count": 117,
   "id": "230faf39-1763-42ec-8b9a-6621beb30059",
   "metadata": {},
   "outputs": [
    {
     "name": "stdout",
     "output_type": "stream",
     "text": [
      "<re.Match object; span=(0, 9), match='10324_10_'>\n"
     ]
    }
   ],
   "source": [
    "print(re.match(r'\\d+_\\d+_', '10324_10_qwedqwe'))"
   ]
  },
  {
   "cell_type": "code",
   "execution_count": 80,
   "id": "de9a5ec7",
   "metadata": {},
   "outputs": [
    {
     "data": {
      "text/plain": [
       "0         5850000\n",
       "1         6000000\n",
       "2         5700000\n",
       "3        13100000\n",
       "4        16331452\n",
       "           ...   \n",
       "30466     7400000\n",
       "30467    25000000\n",
       "30468     6970959\n",
       "30469    13500000\n",
       "30470     5600000\n",
       "Name: price_doc, Length: 30471, dtype: int64"
      ]
     },
     "execution_count": 80,
     "metadata": {},
     "output_type": "execute_result"
    }
   ],
   "source": [
    "df_train_y"
   ]
  },
  {
   "cell_type": "code",
   "execution_count": 92,
   "id": "e5f2900b",
   "metadata": {},
   "outputs": [
    {
     "data": {
      "text/plain": [
       "array([1415683265000626], dtype=int64)"
      ]
     },
     "execution_count": 92,
     "metadata": {},
     "output_type": "execute_result"
    }
   ],
   "source": [
    "np.correlate(df_train['full_all'], df_train['male_f'])"
   ]
  },
  {
   "cell_type": "code",
   "execution_count": 83,
   "id": "6edde88c",
   "metadata": {},
   "outputs": [
    {
     "data": {
      "text/plain": [
       "0         86206\n",
       "1         76284\n",
       "2        101982\n",
       "3         21155\n",
       "4         28179\n",
       "          ...  \n",
       "30466     61396\n",
       "30467    116742\n",
       "30468     17790\n",
       "30469     83844\n",
       "30470     72131\n",
       "Name: full_all, Length: 30471, dtype: int64"
      ]
     },
     "execution_count": 90,
     "metadata": {},
     "output_type": "execute_result"
    }
   ],
   "source": [
    "np.correlate([1,2], [1,2])"
   ]
  },
  {
   "cell_type": "code",
   "execution_count": null,
   "id": "b73345f0",
   "metadata": {},
   "outputs": [],
   "source": []
  },
  {
   "cell_type": "code",
   "execution_count": null,
   "id": "47851ea1",
   "metadata": {},
   "outputs": [],
   "source": []
  },
  {
   "cell_type": "code",
   "execution_count": null,
   "id": "cffab9e8",
   "metadata": {},
   "outputs": [],
   "source": []
  },
  {
   "cell_type": "code",
   "execution_count": null,
   "id": "741927ab",
   "metadata": {},
   "outputs": [],
   "source": []
  },
  {
   "cell_type": "code",
   "execution_count": null,
   "id": "318e7c27",
   "metadata": {},
   "outputs": [],
   "source": []
  },
  {
   "cell_type": "code",
   "execution_count": null,
   "id": "6fa66bb5",
   "metadata": {},
   "outputs": [],
   "source": []
  },
  {
   "cell_type": "code",
   "execution_count": null,
   "id": "1a9b335b",
   "metadata": {},
   "outputs": [],
   "source": []
  },
  {
   "cell_type": "code",
   "execution_count": null,
   "id": "f1ee4b98",
   "metadata": {},
   "outputs": [],
   "source": []
  },
  {
   "cell_type": "code",
   "execution_count": null,
   "id": "08f7a986",
   "metadata": {},
   "outputs": [],
   "source": []
  },
  {
   "cell_type": "code",
   "execution_count": null,
   "id": "ac04bb56",
   "metadata": {},
   "outputs": [],
   "source": []
  },
  {
   "cell_type": "code",
   "execution_count": null,
   "id": "da7e670d",
   "metadata": {},
   "outputs": [],
   "source": []
  },
  {
   "cell_type": "code",
   "execution_count": null,
   "id": "2f0dc03f",
   "metadata": {},
   "outputs": [],
   "source": []
  },
  {
   "cell_type": "code",
   "execution_count": null,
   "id": "a0faf44b",
   "metadata": {},
   "outputs": [],
   "source": []
  },
  {
   "cell_type": "code",
   "execution_count": null,
   "id": "9e96090b",
   "metadata": {},
   "outputs": [],
   "source": []
  },
  {
   "cell_type": "code",
   "execution_count": null,
   "id": "6cebd0cf",
   "metadata": {},
   "outputs": [],
   "source": []
  },
  {
   "cell_type": "code",
   "execution_count": null,
   "id": "1925ec73",
   "metadata": {},
   "outputs": [],
   "source": []
  },
  {
   "cell_type": "code",
   "execution_count": null,
   "id": "2d9180c5",
   "metadata": {},
   "outputs": [],
   "source": []
  },
  {
   "cell_type": "code",
   "execution_count": null,
   "id": "aa4f9e49",
   "metadata": {},
   "outputs": [],
   "source": []
  },
  {
   "cell_type": "code",
   "execution_count": null,
   "id": "59be918c",
   "metadata": {},
   "outputs": [],
   "source": []
  },
  {
   "cell_type": "code",
   "execution_count": null,
   "id": "98738c55",
   "metadata": {},
   "outputs": [],
   "source": []
  }
 ],
 "metadata": {
  "kernelspec": {
   "display_name": "Python 3 (ipykernel)",
   "language": "python",
   "name": "python3"
  },
  "language_info": {
   "codemirror_mode": {
    "name": "ipython",
    "version": 3
   },
   "file_extension": ".py",
   "mimetype": "text/x-python",
   "name": "python",
   "nbconvert_exporter": "python",
   "pygments_lexer": "ipython3",
   "version": "3.9.7"
  }
 },
 "nbformat": 4,
 "nbformat_minor": 5
}
